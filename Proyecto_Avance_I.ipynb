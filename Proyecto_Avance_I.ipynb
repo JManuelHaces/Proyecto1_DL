{
 "cells": [
  {
   "attachments": {},
   "cell_type": "markdown",
   "metadata": {},
   "source": [
    "# Proyecto 1\n",
    "\n",
    "___\n",
    "El reto que se propone en este proyecto consiste en construir un modelo para el problema de clasificación y localización de objetos en imágenes. Para entrenar, validar y probar el modelo, utilizaremos el conjunto de datos Tiny Imagenet que tiene 200 clases. Cada clase tiene 500 imágenes de entrenamiento, 50 imágenes de validación y 50 imágenes de prueba.\n",
    "\n",
    "El alcance esperado para el primer avance es:\n",
    "- Datos reorganizados (en caso de ser necesario)\n",
    "- Pipeline de datos de entrenamiento, validación y pruebas\n",
    "    - Generadores de datos\n",
    "    - Aumento de datos (en caso de ser necesario)"
   ]
  },
  {
   "cell_type": "code",
   "execution_count": 1,
   "metadata": {},
   "outputs": [],
   "source": [
    "# Librerías\n",
    "import numpy as np\n",
    "import pandas as pd\n",
    "import tensorflow as tf\n",
    "\n",
    "# Archivo .py con funciones\n",
    "import Utilidades"
   ]
  },
  {
   "attachments": {},
   "cell_type": "markdown",
   "metadata": {},
   "source": [
    "## 1. Carga de Datos"
   ]
  },
  {
   "cell_type": "code",
   "execution_count": 2,
   "metadata": {},
   "outputs": [
    {
     "name": "stdout",
     "output_type": "stream",
     "text": [
      "Contamos con 200 clases distintas.\n"
     ]
    },
    {
     "data": {
      "text/html": [
       "<div>\n",
       "<style scoped>\n",
       "    .dataframe tbody tr th:only-of-type {\n",
       "        vertical-align: middle;\n",
       "    }\n",
       "\n",
       "    .dataframe tbody tr th {\n",
       "        vertical-align: top;\n",
       "    }\n",
       "\n",
       "    .dataframe thead th {\n",
       "        text-align: right;\n",
       "    }\n",
       "</style>\n",
       "<table border=\"1\" class=\"dataframe\">\n",
       "  <thead>\n",
       "    <tr style=\"text-align: right;\">\n",
       "      <th></th>\n",
       "      <th>Clase</th>\n",
       "    </tr>\n",
       "  </thead>\n",
       "  <tbody>\n",
       "    <tr>\n",
       "      <th>0</th>\n",
       "      <td>n02124075</td>\n",
       "    </tr>\n",
       "    <tr>\n",
       "      <th>1</th>\n",
       "      <td>n04067472</td>\n",
       "    </tr>\n",
       "    <tr>\n",
       "      <th>2</th>\n",
       "      <td>n04540053</td>\n",
       "    </tr>\n",
       "    <tr>\n",
       "      <th>3</th>\n",
       "      <td>n04099969</td>\n",
       "    </tr>\n",
       "    <tr>\n",
       "      <th>4</th>\n",
       "      <td>n07749582</td>\n",
       "    </tr>\n",
       "  </tbody>\n",
       "</table>\n",
       "</div>"
      ],
      "text/plain": [
       "       Clase\n",
       "0  n02124075\n",
       "1  n04067472\n",
       "2  n04540053\n",
       "3  n04099969\n",
       "4  n07749582"
      ]
     },
     "execution_count": 2,
     "metadata": {},
     "output_type": "execute_result"
    }
   ],
   "source": [
    "# Tabla wnids (IDS de las clases que tenemos)\n",
    "wnids = pd.read_fwf('./Data/wnids.txt', header=None)\n",
    "wnids.columns = ['Clase'] # Cambiando el nombre a la columna\n",
    "\n",
    "print(f'Contamos con {wnids[\"Clase\"].nunique()} clases distintas.')\n",
    "wnids.head()"
   ]
  },
  {
   "cell_type": "code",
   "execution_count": 3,
   "metadata": {},
   "outputs": [
    {
     "name": "stdout",
     "output_type": "stream",
     "text": [
      "Contamos con 82115 clases distintas.\n"
     ]
    },
    {
     "data": {
      "text/html": [
       "<div>\n",
       "<style scoped>\n",
       "    .dataframe tbody tr th:only-of-type {\n",
       "        vertical-align: middle;\n",
       "    }\n",
       "\n",
       "    .dataframe tbody tr th {\n",
       "        vertical-align: top;\n",
       "    }\n",
       "\n",
       "    .dataframe thead th {\n",
       "        text-align: right;\n",
       "    }\n",
       "</style>\n",
       "<table border=\"1\" class=\"dataframe\">\n",
       "  <thead>\n",
       "    <tr style=\"text-align: right;\">\n",
       "      <th></th>\n",
       "      <th>Clase</th>\n",
       "      <th>Tipo_Clase</th>\n",
       "    </tr>\n",
       "  </thead>\n",
       "  <tbody>\n",
       "    <tr>\n",
       "      <th>0</th>\n",
       "      <td>n00001740</td>\n",
       "      <td>[entity]</td>\n",
       "    </tr>\n",
       "    <tr>\n",
       "      <th>1</th>\n",
       "      <td>n00001930</td>\n",
       "      <td>[physical entity]</td>\n",
       "    </tr>\n",
       "    <tr>\n",
       "      <th>2</th>\n",
       "      <td>n00002137</td>\n",
       "      <td>[abstraction, abstract entity]</td>\n",
       "    </tr>\n",
       "    <tr>\n",
       "      <th>3</th>\n",
       "      <td>n00002452</td>\n",
       "      <td>[thing]</td>\n",
       "    </tr>\n",
       "    <tr>\n",
       "      <th>4</th>\n",
       "      <td>n00002684</td>\n",
       "      <td>[object, physical object]</td>\n",
       "    </tr>\n",
       "  </tbody>\n",
       "</table>\n",
       "</div>"
      ],
      "text/plain": [
       "       Clase                      Tipo_Clase\n",
       "0  n00001740                        [entity]\n",
       "1  n00001930               [physical entity]\n",
       "2  n00002137  [abstraction, abstract entity]\n",
       "3  n00002452                         [thing]\n",
       "4  n00002684       [object, physical object]"
      ]
     },
     "execution_count": 3,
     "metadata": {},
     "output_type": "execute_result"
    }
   ],
   "source": [
    "# Tabla words (Nombres de las clases)\n",
    "words = pd.read_fwf('./Data/words.txt', header=None)\n",
    "words.columns = ['Clase', 'Tipo_Clase', 'NaN']\n",
    "words = words[['Clase', 'Tipo_Clase']]\n",
    "\n",
    "# Contando cuántos 'TiposClase' hay por 'Clase'\n",
    "words = words.groupby('Clase')['Tipo_Clase'].unique().reset_index(drop=False)\n",
    "\n",
    "# Imprimiendo número de clases que hay en el archivo y el ínicio del dataset\n",
    "print(f'Contamos con {words[\"Clase\"].nunique()} clases distintas.')\n",
    "words.head()"
   ]
  },
  {
   "attachments": {},
   "cell_type": "markdown",
   "metadata": {},
   "source": [
    "- Al tener dos archivos distintos, uno con las clases que tenemos \"wnids.txt\" y otra con las 82115 clases que existen, mergeamos las dos para obtener el 'inner' de los dos conjuntos y obtener una tabla con las clases y la etiqueta."
   ]
  },
  {
   "cell_type": "code",
   "execution_count": 4,
   "metadata": {},
   "outputs": [
    {
     "data": {
      "text/html": [
       "<div>\n",
       "<style scoped>\n",
       "    .dataframe tbody tr th:only-of-type {\n",
       "        vertical-align: middle;\n",
       "    }\n",
       "\n",
       "    .dataframe tbody tr th {\n",
       "        vertical-align: top;\n",
       "    }\n",
       "\n",
       "    .dataframe thead th {\n",
       "        text-align: right;\n",
       "    }\n",
       "</style>\n",
       "<table border=\"1\" class=\"dataframe\">\n",
       "  <thead>\n",
       "    <tr style=\"text-align: right;\">\n",
       "      <th></th>\n",
       "      <th>Clase</th>\n",
       "      <th>Tipo_Clase</th>\n",
       "    </tr>\n",
       "  </thead>\n",
       "  <tbody>\n",
       "    <tr>\n",
       "      <th>0</th>\n",
       "      <td>n01443537</td>\n",
       "      <td>[goldfish, Carassius auratus]</td>\n",
       "    </tr>\n",
       "    <tr>\n",
       "      <th>1</th>\n",
       "      <td>n01629819</td>\n",
       "      <td>[European fire salamander, Salamandra salamandr]</td>\n",
       "    </tr>\n",
       "    <tr>\n",
       "      <th>2</th>\n",
       "      <td>n01641577</td>\n",
       "      <td>[bullfrog, Rana catesbeiana]</td>\n",
       "    </tr>\n",
       "    <tr>\n",
       "      <th>3</th>\n",
       "      <td>n01644900</td>\n",
       "      <td>[tailed frog, bell toad, ribbed toad, tailed to]</td>\n",
       "    </tr>\n",
       "    <tr>\n",
       "      <th>4</th>\n",
       "      <td>n01698640</td>\n",
       "      <td>[American alligator, Alligator mississipiensis]</td>\n",
       "    </tr>\n",
       "    <tr>\n",
       "      <th>...</th>\n",
       "      <td>...</td>\n",
       "      <td>...</td>\n",
       "    </tr>\n",
       "    <tr>\n",
       "      <th>195</th>\n",
       "      <td>n09246464</td>\n",
       "      <td>[cliff, drop, drop-off]</td>\n",
       "    </tr>\n",
       "    <tr>\n",
       "      <th>196</th>\n",
       "      <td>n09256479</td>\n",
       "      <td>[coral reef]</td>\n",
       "    </tr>\n",
       "    <tr>\n",
       "      <th>197</th>\n",
       "      <td>n09332890</td>\n",
       "      <td>[lakeside, lakeshore]</td>\n",
       "    </tr>\n",
       "    <tr>\n",
       "      <th>198</th>\n",
       "      <td>n09428293</td>\n",
       "      <td>[seashore, coast, seacoast, sea-coast]</td>\n",
       "    </tr>\n",
       "    <tr>\n",
       "      <th>199</th>\n",
       "      <td>n12267677</td>\n",
       "      <td>[acorn]</td>\n",
       "    </tr>\n",
       "  </tbody>\n",
       "</table>\n",
       "<p>200 rows × 2 columns</p>\n",
       "</div>"
      ],
      "text/plain": [
       "         Clase                                        Tipo_Clase\n",
       "0    n01443537                     [goldfish, Carassius auratus]\n",
       "1    n01629819  [European fire salamander, Salamandra salamandr]\n",
       "2    n01641577                      [bullfrog, Rana catesbeiana]\n",
       "3    n01644900  [tailed frog, bell toad, ribbed toad, tailed to]\n",
       "4    n01698640   [American alligator, Alligator mississipiensis]\n",
       "..         ...                                               ...\n",
       "195  n09246464                           [cliff, drop, drop-off]\n",
       "196  n09256479                                      [coral reef]\n",
       "197  n09332890                             [lakeside, lakeshore]\n",
       "198  n09428293            [seashore, coast, seacoast, sea-coast]\n",
       "199  n12267677                                           [acorn]\n",
       "\n",
       "[200 rows x 2 columns]"
      ]
     },
     "execution_count": 4,
     "metadata": {},
     "output_type": "execute_result"
    }
   ],
   "source": [
    "# Mergeando las tablas por obtener el 'inner' de los dos\n",
    "clases = words.merge(wnids, on='Clase')\n",
    "clases"
   ]
  },
  {
   "attachments": {},
   "cell_type": "markdown",
   "metadata": {},
   "source": [
    "## 2. EDA sobre las carpetas de 'Data'"
   ]
  },
  {
   "cell_type": "code",
   "execution_count": 5,
   "metadata": {},
   "outputs": [
    {
     "name": "stdout",
     "output_type": "stream",
     "text": [
      "- Contenido de la carpeta Test:\n",
      "\t- images/\n",
      "\n",
      "- Contenido de la carpeta Train:\n",
      "\t- n01443537/\n",
      "\t- n01629819/\n",
      "\t- n01641577/\n",
      "\t- n01644900/\n",
      "\t- n01698640/\n",
      "\t- Más 195 carpetas.\n",
      "\n",
      "- Contenido de la carpeta Val:\n",
      "\t- images/\n",
      "\t- val_annotations.txt\n",
      "\n",
      "- Contenido de la carpeta Validation:\n",
      "\t- n01443537/\n",
      "\t- n01629819/\n",
      "\t- n01641577/\n",
      "\t- n01644900/\n",
      "\t- n01698640/\n",
      "\t- Más 195 carpetas.\n",
      "\n"
     ]
    }
   ],
   "source": [
    "# Path de los datos\n",
    "path = './Data/'\n",
    "\n",
    "# Utilizando la función para ver el contenido de los folders\n",
    "Utilidades.folders_content(path)"
   ]
  },
  {
   "attachments": {},
   "cell_type": "markdown",
   "metadata": {},
   "source": [
    "**Conclusiones:**\n",
    "\n",
    "- Después de un anális se llegó a la concusión de que la jerarquía de las carpetas es:\n",
    "    - Test/\n",
    "        - images/\n",
    "            - Imagenes de Test\n",
    "    - Train/\n",
    "        - Carpeta con las imágenes de esa etiqueta/\n",
    "            - images/\n",
    "            - etiqueta_boxes.txt\n",
    "    - Val/\n",
    "        - images/\n",
    "        - val_annotation.txt"
   ]
  },
  {
   "attachments": {},
   "cell_type": "markdown",
   "metadata": {},
   "source": [
    "## 3. Manejo de Carpetas\n",
    "Necesitamos hacer un cambio en el orden de la carpeta de Validación (Val), ya que tiene un formato diferente que al de Entrenamiento (Train)"
   ]
  },
  {
   "cell_type": "code",
   "execution_count": 6,
   "metadata": {},
   "outputs": [
    {
     "data": {
      "text/html": [
       "<div>\n",
       "<style scoped>\n",
       "    .dataframe tbody tr th:only-of-type {\n",
       "        vertical-align: middle;\n",
       "    }\n",
       "\n",
       "    .dataframe tbody tr th {\n",
       "        vertical-align: top;\n",
       "    }\n",
       "\n",
       "    .dataframe thead th {\n",
       "        text-align: right;\n",
       "    }\n",
       "</style>\n",
       "<table border=\"1\" class=\"dataframe\">\n",
       "  <thead>\n",
       "    <tr style=\"text-align: right;\">\n",
       "      <th></th>\n",
       "      <th>Img_Name</th>\n",
       "      <th>Clase</th>\n",
       "      <th>Xmin</th>\n",
       "      <th>Ymin</th>\n",
       "      <th>Xmax</th>\n",
       "      <th>Ymax</th>\n",
       "    </tr>\n",
       "  </thead>\n",
       "  <tbody>\n",
       "    <tr>\n",
       "      <th>0</th>\n",
       "      <td>val_0.JPEG</td>\n",
       "      <td>n03444034</td>\n",
       "      <td>0</td>\n",
       "      <td>32</td>\n",
       "      <td>44</td>\n",
       "      <td>62</td>\n",
       "    </tr>\n",
       "    <tr>\n",
       "      <th>1</th>\n",
       "      <td>val_1.JPEG</td>\n",
       "      <td>n04067472</td>\n",
       "      <td>52</td>\n",
       "      <td>55</td>\n",
       "      <td>57</td>\n",
       "      <td>59</td>\n",
       "    </tr>\n",
       "    <tr>\n",
       "      <th>2</th>\n",
       "      <td>val_2.JPEG</td>\n",
       "      <td>n04070727</td>\n",
       "      <td>4</td>\n",
       "      <td>0</td>\n",
       "      <td>60</td>\n",
       "      <td>55</td>\n",
       "    </tr>\n",
       "    <tr>\n",
       "      <th>3</th>\n",
       "      <td>val_3.JPEG</td>\n",
       "      <td>n02808440</td>\n",
       "      <td>3</td>\n",
       "      <td>3</td>\n",
       "      <td>63</td>\n",
       "      <td>63</td>\n",
       "    </tr>\n",
       "    <tr>\n",
       "      <th>4</th>\n",
       "      <td>val_4.JPEG</td>\n",
       "      <td>n02808440</td>\n",
       "      <td>9</td>\n",
       "      <td>27</td>\n",
       "      <td>63</td>\n",
       "      <td>48</td>\n",
       "    </tr>\n",
       "    <tr>\n",
       "      <th>...</th>\n",
       "      <td>...</td>\n",
       "      <td>...</td>\n",
       "      <td>...</td>\n",
       "      <td>...</td>\n",
       "      <td>...</td>\n",
       "      <td>...</td>\n",
       "    </tr>\n",
       "    <tr>\n",
       "      <th>9995</th>\n",
       "      <td>val_9995.JPEG</td>\n",
       "      <td>n03085013</td>\n",
       "      <td>0</td>\n",
       "      <td>0</td>\n",
       "      <td>63</td>\n",
       "      <td>63</td>\n",
       "    </tr>\n",
       "    <tr>\n",
       "      <th>9996</th>\n",
       "      <td>val_9996.JPEG</td>\n",
       "      <td>n03444034</td>\n",
       "      <td>0</td>\n",
       "      <td>9</td>\n",
       "      <td>63</td>\n",
       "      <td>63</td>\n",
       "    </tr>\n",
       "    <tr>\n",
       "      <th>9997</th>\n",
       "      <td>val_9997.JPEG</td>\n",
       "      <td>n03424325</td>\n",
       "      <td>10</td>\n",
       "      <td>10</td>\n",
       "      <td>38</td>\n",
       "      <td>42</td>\n",
       "    </tr>\n",
       "    <tr>\n",
       "      <th>9998</th>\n",
       "      <td>val_9998.JPEG</td>\n",
       "      <td>n01629819</td>\n",
       "      <td>28</td>\n",
       "      <td>18</td>\n",
       "      <td>63</td>\n",
       "      <td>31</td>\n",
       "    </tr>\n",
       "    <tr>\n",
       "      <th>9999</th>\n",
       "      <td>val_9999.JPEG</td>\n",
       "      <td>n02699494</td>\n",
       "      <td>17</td>\n",
       "      <td>33</td>\n",
       "      <td>28</td>\n",
       "      <td>39</td>\n",
       "    </tr>\n",
       "  </tbody>\n",
       "</table>\n",
       "<p>10000 rows × 6 columns</p>\n",
       "</div>"
      ],
      "text/plain": [
       "           Img_Name      Clase  Xmin  Ymin  Xmax  Ymax\n",
       "0        val_0.JPEG  n03444034     0    32    44    62\n",
       "1        val_1.JPEG  n04067472    52    55    57    59\n",
       "2        val_2.JPEG  n04070727     4     0    60    55\n",
       "3        val_3.JPEG  n02808440     3     3    63    63\n",
       "4        val_4.JPEG  n02808440     9    27    63    48\n",
       "...             ...        ...   ...   ...   ...   ...\n",
       "9995  val_9995.JPEG  n03085013     0     0    63    63\n",
       "9996  val_9996.JPEG  n03444034     0     9    63    63\n",
       "9997  val_9997.JPEG  n03424325    10    10    38    42\n",
       "9998  val_9998.JPEG  n01629819    28    18    63    31\n",
       "9999  val_9999.JPEG  n02699494    17    33    28    39\n",
       "\n",
       "[10000 rows x 6 columns]"
      ]
     },
     "execution_count": 6,
     "metadata": {},
     "output_type": "execute_result"
    }
   ],
   "source": [
    "# Anotaciones del dataset de Validation\n",
    "val_annotations = pd.read_csv('./Data/Val/val_annotations.txt', sep='\\t', header=None)\n",
    "val_annotations.columns = ['Img_Name', 'Clase', 'Xmin', 'Ymin', 'Xmax', 'Ymax'] # Cambiando columnas\n",
    "val_annotations"
   ]
  },
  {
   "cell_type": "code",
   "execution_count": 7,
   "metadata": {},
   "outputs": [],
   "source": [
    "# Nombre de las imágenes por clase\n",
    "clases_nombre = val_annotations.groupby('Clase')['Img_Name'].unique().reset_index()\n",
    "\n",
    "# Llamando a la función que usamos para cambiar las imágenes de directorio\n",
    "Utilidades.directory_name_change(df_nombres=clases_nombre, \n",
    "                                 df_data=val_annotations, \n",
    "                                 original_path='./Data/Val/images/', \n",
    "                                 new_path=r'./Data/Validation/')"
   ]
  },
  {
   "attachments": {},
   "cell_type": "markdown",
   "metadata": {},
   "source": [
    "## 4) Generadores de Datos"
   ]
  },
  {
   "cell_type": "code",
   "execution_count": 8,
   "metadata": {},
   "outputs": [],
   "source": [
    "# Paths a las carpetas\n",
    "train_path = \".\\Data\\Train\"\n",
    "val_path = \".\\Data\\Validation\""
   ]
  },
  {
   "cell_type": "code",
   "execution_count": 9,
   "metadata": {},
   "outputs": [
    {
     "name": "stdout",
     "output_type": "stream",
     "text": [
      "Found 100000 images belonging to 200 classes.\n",
      "Found 10000 images belonging to 200 classes.\n"
     ]
    }
   ],
   "source": [
    "# Haciendo los Generadores de Datos\n",
    "data_train = Utilidades.data_generator(path='./Data/Train/')\n",
    "val_train = Utilidades.data_generator(path='./Data/Validation/')"
   ]
  },
  {
   "attachments": {},
   "cell_type": "markdown",
   "metadata": {},
   "source": [
    "# COSAS POR HACER\n",
    "- Ver cómo poner el nombre de la clase y los bboxes"
   ]
  },
  {
   "cell_type": "markdown",
   "metadata": {},
   "source": []
  }
 ],
 "metadata": {
  "kernelspec": {
   "display_name": "ITESO_Anaconda",
   "language": "python",
   "name": "python3"
  },
  "language_info": {
   "codemirror_mode": {
    "name": "ipython",
    "version": 3
   },
   "file_extension": ".py",
   "mimetype": "text/x-python",
   "name": "python",
   "nbconvert_exporter": "python",
   "pygments_lexer": "ipython3",
   "version": "3.10.9"
  },
  "orig_nbformat": 4
 },
 "nbformat": 4,
 "nbformat_minor": 2
}
